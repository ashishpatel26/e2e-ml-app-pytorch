{
  "nbformat": 4,
  "nbformat_minor": 0,
  "metadata": {
    "colab": {
      "name": "Copy of notebook.ipynb",
      "provenance": [],
      "collapsed_sections": []
    },
    "kernelspec": {
      "name": "python3",
      "display_name": "Python 3"
    },
    "accelerator": "GPU"
  },
  "cells": [
    {
      "cell_type": "markdown",
      "metadata": {
        "id": "F-4Wf0sSR4Ya",
        "colab_type": "text"
      },
      "source": [
        "# Text Classification w/ <img src=\"https://raw.githubusercontent.com/madewithml/images/master/images/pytorch.png\" width=\"25rem\"> PyTorch\n",
        "\n",
        "<div align=\"left\">\n",
        "<a href=\"https://github.com/madewithml/e2e-ml-app-pytorch/blob/master/notebook.ipynb\" role=\"button\"><img class=\"notebook-badge-image\" src=\"https://img.shields.io/static/v1?label=&amp;message=View%20On%20GitHub&amp;color=586069&amp;logo=github&amp;labelColor=2f363d\"></a>&nbsp;\n",
        "<a href=\"https://colab.research.google.com/github/madewithml/e2e-ml-app-pytorch/blob/master/notebook.ipynb\"><img class=\"notebook-badge-image\" src=\"https://colab.research.google.com/assets/colab-badge.svg\" alt=\"Open In Colab\"></a>\n",
        "</div>"
      ]
    },
    {
      "cell_type": "markdown",
      "metadata": {
        "id": "xYI4M5P8SkrD",
        "colab_type": "text"
      },
      "source": [
        "When building at end-to-end project, I often start with exploring the dataset and doing some basic modeling on a notebook first. The ability to execute code without having to rerun everything start to finish for every iterative change is great way to iterate quickly. \n",
        "\n",
        "→ Check out the full repo here: [e2e-ml-app-pytorch](https://github.com/madewithml/e2e-ml-app-pytorch)"
      ]
    },
    {
      "cell_type": "code",
      "metadata": {
        "id": "6rtRslD2Ugf1",
        "colab_type": "code",
        "colab": {}
      },
      "source": [
        "import numpy as np\n",
        "import pandas as pd\n",
        "import random\n",
        "import torch"
      ],
      "execution_count": 1,
      "outputs": []
    },
    {
      "cell_type": "markdown",
      "metadata": {
        "id": "dKtwSXN-UYjC",
        "colab_type": "text"
      },
      "source": [
        "## Set up"
      ]
    },
    {
      "cell_type": "code",
      "metadata": {
        "id": "bfI9XQiCUdCt",
        "colab_type": "code",
        "colab": {}
      },
      "source": [
        "seed = 1234\n",
        "cuda = True"
      ],
      "execution_count": 2,
      "outputs": []
    },
    {
      "cell_type": "code",
      "metadata": {
        "id": "1fkcrIttUZ5k",
        "colab_type": "code",
        "colab": {}
      },
      "source": [
        "# Set seeds for reproducibility\n",
        "np.random.seed(seed)\n",
        "random.seed(seed)\n",
        "torch.manual_seed(seed)\n",
        "torch.cuda.manual_seed(seed)\n",
        "torch.cuda.manual_seed_all(seed)  # multi-GPU.\n",
        "torch.backends.cudnn.benchmark = False\n",
        "torch.backends.cudnn.deterministic = True"
      ],
      "execution_count": 3,
      "outputs": []
    },
    {
      "cell_type": "code",
      "metadata": {
        "id": "3_lhqCsm58VZ",
        "colab_type": "code",
        "colab": {
          "base_uri": "https://localhost:8080/",
          "height": 34
        },
        "outputId": "e98cc730-015c-4fdb-87f3-5d4edbeb5b27"
      },
      "source": [
        "# Set device\n",
        "device = torch.device('cuda' if (\n",
        "    torch.cuda.is_available() and cuda) else 'cpu')\n",
        "device"
      ],
      "execution_count": 4,
      "outputs": [
        {
          "output_type": "execute_result",
          "data": {
            "text/plain": [
              "device(type='cuda')"
            ]
          },
          "metadata": {
            "tags": []
          },
          "execution_count": 4
        }
      ]
    },
    {
      "cell_type": "markdown",
      "metadata": {
        "id": "GjEXugL2UsL-",
        "colab_type": "text"
      },
      "source": [
        "## Load data"
      ]
    },
    {
      "cell_type": "code",
      "metadata": {
        "id": "2KpVCxwaUy5P",
        "colab_type": "code",
        "colab": {}
      },
      "source": [
        "data_size = 1.0 # use smaller sizes at the beginning to iterate quickly and catch errors\n",
        "url = \"https://raw.githubusercontent.com/madewithml/lessons/master/data/news.csv\""
      ],
      "execution_count": 5,
      "outputs": []
    },
    {
      "cell_type": "code",
      "metadata": {
        "id": "PAwO9PTcUqYA",
        "colab_type": "code",
        "colab": {
          "base_uri": "https://localhost:8080/",
          "height": 204
        },
        "outputId": "aba3b123-9eba-4cc5-ae14-12822d62bffb"
      },
      "source": [
        "# Load data\n",
        "df = pd.read_csv(url)\n",
        "df = df.sample(frac=1).reset_index(drop=True) # shuffle\n",
        "df.head()"
      ],
      "execution_count": 6,
      "outputs": [
        {
          "output_type": "execute_result",
          "data": {
            "text/html": [
              "<div>\n",
              "<style scoped>\n",
              "    .dataframe tbody tr th:only-of-type {\n",
              "        vertical-align: middle;\n",
              "    }\n",
              "\n",
              "    .dataframe tbody tr th {\n",
              "        vertical-align: top;\n",
              "    }\n",
              "\n",
              "    .dataframe thead th {\n",
              "        text-align: right;\n",
              "    }\n",
              "</style>\n",
              "<table border=\"1\" class=\"dataframe\">\n",
              "  <thead>\n",
              "    <tr style=\"text-align: right;\">\n",
              "      <th></th>\n",
              "      <th>title</th>\n",
              "      <th>category</th>\n",
              "    </tr>\n",
              "  </thead>\n",
              "  <tbody>\n",
              "    <tr>\n",
              "      <th>0</th>\n",
              "      <td>Sharon Accepts Plan to Reduce Gaza Army Operat...</td>\n",
              "      <td>World</td>\n",
              "    </tr>\n",
              "    <tr>\n",
              "      <th>1</th>\n",
              "      <td>Internet Key Battleground in Wildlife Crime Fight</td>\n",
              "      <td>Sci/Tech</td>\n",
              "    </tr>\n",
              "    <tr>\n",
              "      <th>2</th>\n",
              "      <td>July Durable Good Orders Rise 1.7 Percent</td>\n",
              "      <td>Business</td>\n",
              "    </tr>\n",
              "    <tr>\n",
              "      <th>3</th>\n",
              "      <td>Growing Signs of a Slowing on Wall Street</td>\n",
              "      <td>Business</td>\n",
              "    </tr>\n",
              "    <tr>\n",
              "      <th>4</th>\n",
              "      <td>The New Faces of Reality TV</td>\n",
              "      <td>World</td>\n",
              "    </tr>\n",
              "  </tbody>\n",
              "</table>\n",
              "</div>"
            ],
            "text/plain": [
              "                                               title  category\n",
              "0  Sharon Accepts Plan to Reduce Gaza Army Operat...     World\n",
              "1  Internet Key Battleground in Wildlife Crime Fight  Sci/Tech\n",
              "2          July Durable Good Orders Rise 1.7 Percent  Business\n",
              "3          Growing Signs of a Slowing on Wall Street  Business\n",
              "4                        The New Faces of Reality TV     World"
            ]
          },
          "metadata": {
            "tags": []
          },
          "execution_count": 6
        }
      ]
    },
    {
      "cell_type": "code",
      "metadata": {
        "id": "zlILPMyaU4KX",
        "colab_type": "code",
        "colab": {
          "base_uri": "https://localhost:8080/",
          "height": 34
        },
        "outputId": "aacaae3d-efab-4193-b66b-8c496b21598f"
      },
      "source": [
        "# Reduce dataset\n",
        "# You should always overfit your models on a small\n",
        "# dataset first so you can catch errors quickly.\n",
        "df = df[:int(len(df)*data_size)]\n",
        "len(df)"
      ],
      "execution_count": 7,
      "outputs": [
        {
          "output_type": "execute_result",
          "data": {
            "text/plain": [
              "120000"
            ]
          },
          "metadata": {
            "tags": []
          },
          "execution_count": 7
        }
      ]
    },
    {
      "cell_type": "code",
      "metadata": {
        "id": "Fj7p-CO5VQan",
        "colab_type": "code",
        "colab": {
          "base_uri": "https://localhost:8080/",
          "height": 170
        },
        "outputId": "599bc06d-c536-4e18-db2d-b005c52f3301"
      },
      "source": [
        "# Inputs and outputs\n",
        "X = df['title'].values\n",
        "y = df['category'].values\n",
        "X, y"
      ],
      "execution_count": 8,
      "outputs": [
        {
          "output_type": "execute_result",
          "data": {
            "text/plain": [
              "(array(['Sharon Accepts Plan to Reduce Gaza Army Operation, Haaretz Says',\n",
              "        'Internet Key Battleground in Wildlife Crime Fight',\n",
              "        'July Durable Good Orders Rise 1.7 Percent', ...,\n",
              "        'Musharraf says U.S. must address root of terrorism (Reuters)',\n",
              "        'Nuclear materials  #39;vanish #39; in Iraq',\n",
              "        'In Brief: Bowstreet unveils pre-packaged portal offerings'],\n",
              "       dtype=object),\n",
              " array(['World', 'Sci/Tech', 'Business', ..., 'World', 'World', 'Sci/Tech'],\n",
              "       dtype=object))"
            ]
          },
          "metadata": {
            "tags": []
          },
          "execution_count": 8
        }
      ]
    },
    {
      "cell_type": "markdown",
      "metadata": {
        "id": "nVSM6DmK8X34",
        "colab_type": "text"
      },
      "source": [
        "## Preprocessing"
      ]
    },
    {
      "cell_type": "code",
      "metadata": {
        "id": "UHDjpH1385eR",
        "colab_type": "code",
        "colab": {}
      },
      "source": [
        "import re"
      ],
      "execution_count": 9,
      "outputs": []
    },
    {
      "cell_type": "code",
      "metadata": {
        "id": "0uOGiuIC8d_j",
        "colab_type": "code",
        "colab": {}
      },
      "source": [
        "lower = True"
      ],
      "execution_count": 10,
      "outputs": []
    },
    {
      "cell_type": "code",
      "metadata": {
        "id": "oJ8BabiF80OI",
        "colab_type": "code",
        "colab": {}
      },
      "source": [
        "def preprocess_texts(texts, lower=True, filters=r\"[!\\\"'#$%&()*\\+,-./:;<=>?@\\\\\\[\\]^_`{|}~]\"):\n",
        "    preprocessed_texts = []\n",
        "    for text in texts:\n",
        "        # lower\n",
        "        if lower:\n",
        "            text = text.lower()\n",
        "\n",
        "        # remove items text in () ex. (Reuters)\n",
        "        # may want to refine to only remove if at end of text\n",
        "        text = re.sub(r'\\([^)]*\\)', '', text)\n",
        "\n",
        "        # spacing and filters\n",
        "        text = re.sub(r\"([.,!?])\", r\" \\1 \", text)\n",
        "        text = re.sub(filters, r\"\", text)\n",
        "        text = re.sub(' +', ' ', text)  # remove multiple spaces\n",
        "        text = text.strip()\n",
        "\n",
        "        preprocessed_texts.append(text)\n",
        "    return preprocessed_texts"
      ],
      "execution_count": 11,
      "outputs": []
    },
    {
      "cell_type": "code",
      "metadata": {
        "id": "pGl3ZUsY8ZSl",
        "colab_type": "code",
        "colab": {
          "base_uri": "https://localhost:8080/",
          "height": 51
        },
        "outputId": "3fdec702-be67-4342-8ff0-4c16595e0e4c"
      },
      "source": [
        "# Preprocesss\n",
        "original_X = X\n",
        "X = preprocess_texts(texts=X, lower=lower)\n",
        "print (\"Preprocessed data:\\n\"\n",
        "    f\"  {original_X[0]} → {X[0]}\")"
      ],
      "execution_count": 12,
      "outputs": [
        {
          "output_type": "stream",
          "text": [
            "Preprocessed data:\n",
            "  Sharon Accepts Plan to Reduce Gaza Army Operation, Haaretz Says → sharon accepts plan to reduce gaza army operation haaretz says\n"
          ],
          "name": "stdout"
        }
      ]
    },
    {
      "cell_type": "markdown",
      "metadata": {
        "id": "9EPlqi8IVkfY",
        "colab_type": "text"
      },
      "source": [
        "## Split data"
      ]
    },
    {
      "cell_type": "code",
      "metadata": {
        "id": "pv2E9jtoVoAh",
        "colab_type": "code",
        "colab": {}
      },
      "source": [
        "from sklearn.model_selection import train_test_split"
      ],
      "execution_count": 13,
      "outputs": []
    },
    {
      "cell_type": "code",
      "metadata": {
        "id": "8KyixkulVtZx",
        "colab_type": "code",
        "colab": {}
      },
      "source": [
        "val_size = 0.15\n",
        "test_size = 0.15\n",
        "shuffle = True"
      ],
      "execution_count": 14,
      "outputs": []
    },
    {
      "cell_type": "code",
      "metadata": {
        "id": "Cbk-mTzdVUbM",
        "colab_type": "code",
        "colab": {
          "base_uri": "https://localhost:8080/",
          "height": 85
        },
        "outputId": "19bb1b6b-b316-43f3-a7d9-edb3a926903c"
      },
      "source": [
        "# Split data\n",
        "X_train, X_test, y_train, y_test = train_test_split( # creating train and test\n",
        "        X, y, test_size=test_size, stratify=y, shuffle=shuffle)\n",
        "X_train, X_val, y_train, y_val = train_test_split( # creating train and val\n",
        "    X_train, y_train, test_size=val_size, stratify=y_train, shuffle=shuffle)\n",
        "print (\"Data splits:\\n\"\n",
        "        f\"  X_train: {len(X_train)}, y_train: {len(y_train)}\\n\"\n",
        "        f\"  X_val: {len(X_val)}, y_val: {len(y_val)}\\n\"\n",
        "        f\"  X_test: {len(X_test)}, y_test: {len(y_test)}\")"
      ],
      "execution_count": 15,
      "outputs": [
        {
          "output_type": "stream",
          "text": [
            "Data splits:\n",
            "  X_train: 86700, y_train: 86700\n",
            "  X_val: 15300, y_val: 15300\n",
            "  X_test: 18000, y_test: 18000\n"
          ],
          "name": "stdout"
        }
      ]
    },
    {
      "cell_type": "markdown",
      "metadata": {
        "id": "rxRC_FCeYAsf",
        "colab_type": "text"
      },
      "source": [
        "## Tokenization"
      ]
    },
    {
      "cell_type": "code",
      "metadata": {
        "id": "Cc6L_ulX9KQm",
        "colab_type": "code",
        "colab": {}
      },
      "source": [
        "char_level = False"
      ],
      "execution_count": 16,
      "outputs": []
    },
    {
      "cell_type": "code",
      "metadata": {
        "id": "rguaC4Uw8_t-",
        "colab_type": "code",
        "colab": {}
      },
      "source": [
        "class Tokenizer(object):\n",
        "    def __init__(self, char_level, pad_token='<PAD>', oov_token='<UNK>',\n",
        "                 token_to_index={'<PAD>': 0, '<UNK>': 1}):\n",
        "        self.char_level = char_level\n",
        "        self.separator = '' if self.char_level else ' '\n",
        "        self.oov_token = oov_token\n",
        "        self.token_to_index = token_to_index\n",
        "        self.index_to_token = {v: k for k, v in self.token_to_index.items()}\n",
        "\n",
        "    def __len__(self):\n",
        "        return len(self.token_to_index)\n",
        "\n",
        "    def __str__(self):\n",
        "        return f\"<Tokenizer(num_tokens={len(self)})>\"\n",
        "\n",
        "    def fit_on_texts(self, texts):\n",
        "        for text in texts:\n",
        "            for token in text.split(self.separator):\n",
        "                if token not in self.token_to_index:\n",
        "                    index = len(self)\n",
        "                    self.token_to_index[token] = index\n",
        "                    self.index_to_token[index] = token\n",
        "        return self\n",
        "\n",
        "    def texts_to_sequences(self, texts):\n",
        "        sequences = []\n",
        "        for text in texts:\n",
        "            sequence = []\n",
        "            for token in text.split(self.separator):\n",
        "                sequence.append(self.token_to_index.get(\n",
        "                    token, self.token_to_index[self.oov_token]))\n",
        "            sequences.append(sequence)\n",
        "        return sequences\n",
        "\n",
        "    def sequences_to_texts(self, sequences):\n",
        "        texts = []\n",
        "        for sequence in sequences:\n",
        "            text = []\n",
        "            for index in sequence:\n",
        "                text.append(self.index_to_token.get(index, self.oov_token))\n",
        "            texts.append(self.separator.join([token for token in text]))\n",
        "        return texts\n",
        "\n",
        "    def save(self, fp):\n",
        "        with open(fp, 'w') as fp:\n",
        "            contents = {\n",
        "                'char_level': self.char_level,\n",
        "                'oov_token': self.oov_token,\n",
        "                'token_to_index': self.token_to_index\n",
        "            }\n",
        "            json.dump(contents, fp, indent=4, sort_keys=False)\n",
        "\n",
        "    @classmethod\n",
        "    def load(cls, fp):\n",
        "        with open(fp, 'r') as fp:\n",
        "            kwargs = json.load(fp=fp)\n",
        "        return cls(**kwargs)"
      ],
      "execution_count": 17,
      "outputs": []
    },
    {
      "cell_type": "code",
      "metadata": {
        "id": "R65NAHNtYJmY",
        "colab_type": "code",
        "colab": {
          "base_uri": "https://localhost:8080/",
          "height": 51
        },
        "outputId": "e115399c-69e6-422c-af33-d13f180b77ef"
      },
      "source": [
        "# Tokenizer\n",
        "X_tokenizer = Tokenizer(char_level=char_level)\n",
        "X_tokenizer.fit_on_texts(texts=X_train)\n",
        "vocab_size = len(X_tokenizer) + 1\n",
        "print (\"X tokenizer:\\n\"\n",
        "    f\"  {X_tokenizer}\")"
      ],
      "execution_count": 18,
      "outputs": [
        {
          "output_type": "stream",
          "text": [
            "X tokenizer:\n",
            "  <Tokenizer(num_tokens=35603)>\n"
          ],
          "name": "stdout"
        }
      ]
    },
    {
      "cell_type": "code",
      "metadata": {
        "id": "uqEoby8h9zq5",
        "colab_type": "code",
        "colab": {
          "base_uri": "https://localhost:8080/",
          "height": 68
        },
        "outputId": "5dd9755e-d7c7-4e3e-85a6-26f84f2277e3"
      },
      "source": [
        "# Convert texts to sequences of indices\n",
        "X_train = np.array(X_tokenizer.texts_to_sequences(X_train))\n",
        "X_val = np.array(X_tokenizer.texts_to_sequences(X_val))\n",
        "X_test = np.array(X_tokenizer.texts_to_sequences(X_test))\n",
        "preprocessed_text = X_tokenizer.sequences_to_texts([X_train[0]])[0]\n",
        "print (\"Text to indices:\\n\"\n",
        "    f\"  (preprocessed) → {preprocessed_text}\\n\"\n",
        "    f\"  (tokenized) → {X_train[0]}\")"
      ],
      "execution_count": 19,
      "outputs": [
        {
          "output_type": "stream",
          "text": [
            "Text to indices:\n",
            "  (preprocessed) → fed corporate forecasts to set tone\n",
            "  (tokenized) → [2, 3, 4, 5, 6, 7]\n"
          ],
          "name": "stdout"
        }
      ]
    },
    {
      "cell_type": "markdown",
      "metadata": {
        "id": "-uaSa0OJ9l88",
        "colab_type": "text"
      },
      "source": [
        "## Label encoding"
      ]
    },
    {
      "cell_type": "code",
      "metadata": {
        "id": "pFzvaSaKY1Dl",
        "colab_type": "code",
        "colab": {}
      },
      "source": [
        "class LabelEncoder(object):\n",
        "    def __init__(self, class_to_index={}):\n",
        "        self.class_to_index = class_to_index\n",
        "        self.index_to_class = {v: k for k, v in self.class_to_index.items()}\n",
        "        self.classes = list(self.class_to_index.keys())\n",
        "\n",
        "    def __len__(self):\n",
        "        return len(self.class_to_index)\n",
        "\n",
        "    def __str__(self):\n",
        "        return f\"<LabelEncoder(num_classes={len(self)})>\"\n",
        "\n",
        "    def fit(self, y_train):\n",
        "        for i, class_ in enumerate(np.unique(y_train)):\n",
        "            self.class_to_index[class_] = i\n",
        "        self.index_to_class = {v: k for k, v in self.class_to_index.items()}\n",
        "        self.classes = list(self.class_to_index.keys())\n",
        "        return self\n",
        "\n",
        "    def transform(self, y):\n",
        "        return np.array([self.class_to_index[class_] for class_ in y])\n",
        "\n",
        "    def decode(self, index):\n",
        "        return self.index_to_class.get(index, None)\n",
        "\n",
        "    def save(self, fp):\n",
        "        with open(fp, 'w') as fp:\n",
        "            contents = {\n",
        "                'class_to_index': self.class_to_index\n",
        "            }\n",
        "            json.dump(contents, fp, indent=4, sort_keys=False)\n",
        "\n",
        "    @classmethod\n",
        "    def load(cls, fp):\n",
        "        with open(fp, 'r') as fp:\n",
        "            kwargs = json.load(fp=fp)\n",
        "        return cls(**kwargs)"
      ],
      "execution_count": 20,
      "outputs": []
    },
    {
      "cell_type": "code",
      "metadata": {
        "id": "CcVNGK7zZFbw",
        "colab_type": "code",
        "colab": {
          "base_uri": "https://localhost:8080/",
          "height": 85
        },
        "outputId": "322846b8-c363-4620-8f7a-8d61dc7080ea"
      },
      "source": [
        "# Label encoder\n",
        "y_tokenizer = LabelEncoder()\n",
        "y_tokenizer = y_tokenizer.fit(y_train)\n",
        "classes = y_tokenizer.classes\n",
        "print(\"y tokenizer:\\n\"\n",
        "    f\"  {y_tokenizer}\\n\"\n",
        "    \"classes:\\n\"\n",
        "    f\"  {classes}\")"
      ],
      "execution_count": 21,
      "outputs": [
        {
          "output_type": "stream",
          "text": [
            "y tokenizer:\n",
            "  <LabelEncoder(num_classes=4)>\n",
            "classes:\n",
            "  ['Business', 'Sci/Tech', 'Sports', 'World']\n"
          ],
          "name": "stdout"
        }
      ]
    },
    {
      "cell_type": "code",
      "metadata": {
        "id": "5EF7l3GAZQ9X",
        "colab_type": "code",
        "colab": {
          "base_uri": "https://localhost:8080/",
          "height": 51
        },
        "outputId": "797a2d37-5cce-4a8d-89bc-cc5f99283761"
      },
      "source": [
        "# Convert labels to tokens\n",
        "class_ = y_train[0]\n",
        "y_train = y_tokenizer.transform(y_train)\n",
        "y_val = y_tokenizer.transform(y_val)\n",
        "y_test = y_tokenizer.transform(y_test)\n",
        "print (\"Labels to indices:\\n\"\n",
        "    f\"  {class_} → {y_train[0]}\")"
      ],
      "execution_count": 22,
      "outputs": [
        {
          "output_type": "stream",
          "text": [
            "Labels to indices:\n",
            "  Business → 0\n"
          ],
          "name": "stdout"
        }
      ]
    },
    {
      "cell_type": "code",
      "metadata": {
        "id": "yynxcH1Z-ALE",
        "colab_type": "code",
        "colab": {
          "base_uri": "https://localhost:8080/",
          "height": 85
        },
        "outputId": "387802af-cede-4f18-f003-c19cb5ec4eb8"
      },
      "source": [
        "# Class weights\n",
        "counts = np.bincount(y_train)\n",
        "class_weights = {i: 1.0/count for i, count in enumerate(counts)}\n",
        "print (\"class counts:\\n\"\n",
        "    f\"  {counts}\\n\"\n",
        "    \"class weights:\\n\"\n",
        "    f\"  {class_weights}\")"
      ],
      "execution_count": 23,
      "outputs": [
        {
          "output_type": "stream",
          "text": [
            "class counts:\n",
            "  [21675 21675 21675 21675]\n",
            "class weights:\n",
            "  {0: 4.61361014994233e-05, 1: 4.61361014994233e-05, 2: 4.61361014994233e-05, 3: 4.61361014994233e-05}\n"
          ],
          "name": "stdout"
        }
      ]
    },
    {
      "cell_type": "markdown",
      "metadata": {
        "id": "7uAsfy7xbYor",
        "colab_type": "text"
      },
      "source": [
        "## Dataset"
      ]
    },
    {
      "cell_type": "code",
      "metadata": {
        "id": "xXtfuP5J-ZoZ",
        "colab_type": "code",
        "colab": {}
      },
      "source": [
        "filter_sizes = [2, 3, 4]\n",
        "batch_size = 64"
      ],
      "execution_count": 24,
      "outputs": []
    },
    {
      "cell_type": "code",
      "metadata": {
        "id": "7DlSuZiSbnmW",
        "colab_type": "code",
        "colab": {}
      },
      "source": [
        "def pad_sequences(sequences, max_seq_len=0):\n",
        "    max_seq_len = max(max_seq_len, max(len(sequence)\n",
        "                                       for sequence in sequences))\n",
        "    padded_sequences = np.zeros((len(sequences), max_seq_len))\n",
        "    for i, sequence in enumerate(sequences):\n",
        "        padded_sequences[i][:len(sequence)] = sequence\n",
        "    return padded_sequences"
      ],
      "execution_count": 25,
      "outputs": []
    },
    {
      "cell_type": "code",
      "metadata": {
        "id": "0FzIVfVfbwAQ",
        "colab_type": "code",
        "colab": {}
      },
      "source": [
        "class TextDataset(torch.utils.data.Dataset):\n",
        "    def __init__(self, X, y, max_filter_size):\n",
        "        self.X = X\n",
        "        self.y = y\n",
        "        self.max_filter_size = max_filter_size\n",
        "\n",
        "    def __len__(self):\n",
        "        return len(self.y)\n",
        "\n",
        "    def __str__(self):\n",
        "        return f\"<Dataset(N={len(self)})>\"\n",
        "\n",
        "    def __getitem__(self, index):\n",
        "        X = self.X[index]\n",
        "        y = self.y[index]\n",
        "        return X, y\n",
        "\n",
        "    def collate_fn(self, batch):\n",
        "        \"\"\"Processing on a batch.\"\"\"\n",
        "        # Get inputs\n",
        "        X = np.array(batch)[:, 0]\n",
        "        y = np.array(batch)[:, 1]\n",
        "\n",
        "        # Pad inputs\n",
        "        X = pad_sequences(sequences=X, max_seq_len=self.max_filter_size)\n",
        "\n",
        "        # Cast\n",
        "        X = torch.LongTensor(X.astype(np.int32))\n",
        "        y = torch.LongTensor(y.astype(np.int32))\n",
        "\n",
        "        return X, y\n",
        "\n",
        "    def create_dataloader(self, batch_size, shuffle=False, drop_last=False):\n",
        "        return torch.utils.data.DataLoader(\n",
        "            dataset=self,\n",
        "            batch_size=batch_size,\n",
        "            collate_fn=self.collate_fn,\n",
        "            shuffle=shuffle, drop_last=drop_last, pin_memory=True)"
      ],
      "execution_count": 26,
      "outputs": []
    },
    {
      "cell_type": "code",
      "metadata": {
        "id": "YlDxqezNbj5W",
        "colab_type": "code",
        "colab": {
          "base_uri": "https://localhost:8080/",
          "height": 119
        },
        "outputId": "e203cb55-df3b-4bd5-ac21-932ffc16bf76"
      },
      "source": [
        "# Create datasets\n",
        "train_dataset = TextDataset(\n",
        "    X=X_train, y=y_train, max_filter_size=max(filter_sizes))\n",
        "val_dataset = TextDataset(\n",
        "    X=X_val, y=y_val, max_filter_size=max(filter_sizes))\n",
        "test_dataset = TextDataset(\n",
        "    X=X_test, y=y_test, max_filter_size=max(filter_sizes))\n",
        "print (\"Data splits:\\n\"\n",
        "    f\"  Train dataset:{train_dataset.__str__()}\\n\"\n",
        "    f\"  Val dataset: {val_dataset.__str__()}\\n\"\n",
        "    f\"  Test dataset: {test_dataset.__str__()}\\n\"\n",
        "    \"Sample point:\\n\"\n",
        "    f\"  {train_dataset[0]}\")"
      ],
      "execution_count": 27,
      "outputs": [
        {
          "output_type": "stream",
          "text": [
            "Data splits:\n",
            "  Train dataset:<Dataset(N=86700)>\n",
            "  Val dataset: <Dataset(N=15300)>\n",
            "  Test dataset: <Dataset(N=18000)>\n",
            "Sample point:\n",
            "  ([2, 3, 4, 5, 6, 7], 0)\n"
          ],
          "name": "stdout"
        }
      ]
    },
    {
      "cell_type": "code",
      "metadata": {
        "id": "JvL2mR4CIi2j",
        "colab_type": "code",
        "colab": {
          "base_uri": "https://localhost:8080/",
          "height": 68
        },
        "outputId": "931b1ce1-dcbd-4002-a641-13678b4867c7"
      },
      "source": [
        "# Create dataloaders\n",
        "train_dataloader = train_dataset.create_dataloader(\n",
        "    batch_size=batch_size)\n",
        "val_dataloader = val_dataset.create_dataloader(\n",
        "    batch_size=batch_size)\n",
        "test_dataloader = test_dataset.create_dataloader(\n",
        "    batch_size=batch_size)\n",
        "batch_X, batch_y = next(iter(train_dataloader))\n",
        "print (\"Sample batch:\\n\"\n",
        "    f\"  X: {list(batch_X.size())}\\n\"\n",
        "    f\"  y: {list(batch_y.size())}\")"
      ],
      "execution_count": 28,
      "outputs": [
        {
          "output_type": "stream",
          "text": [
            "Sample batch:\n",
            "  X: [64, 13]\n",
            "  y: [64]\n"
          ],
          "name": "stdout"
        }
      ]
    },
    {
      "cell_type": "markdown",
      "metadata": {
        "id": "pxDlodx1cXUS",
        "colab_type": "text"
      },
      "source": [
        "## Model"
      ]
    },
    {
      "cell_type": "code",
      "metadata": {
        "id": "JOnykJwTcbMs",
        "colab_type": "code",
        "colab": {}
      },
      "source": [
        "import math\n",
        "import torch\n",
        "import torch.nn as nn\n",
        "import torch.nn.functional as F"
      ],
      "execution_count": 29,
      "outputs": []
    },
    {
      "cell_type": "code",
      "metadata": {
        "id": "4xw7p6GorJmF",
        "colab_type": "code",
        "colab": {}
      },
      "source": [
        "embedding_dim = 100\n",
        "num_filters = 50\n",
        "hidden_dim = 128\n",
        "dropout_p = 0.1\n",
        "freeze_embeddings = False"
      ],
      "execution_count": 30,
      "outputs": []
    },
    {
      "cell_type": "code",
      "metadata": {
        "id": "unHyi8Oe_IJH",
        "colab_type": "code",
        "colab": {}
      },
      "source": [
        "class TextCNN(nn.Module):\n",
        "    def __init__(self, embedding_dim, vocab_size, num_filters, filter_sizes,\n",
        "                 hidden_dim, dropout_p, num_classes, pretrained_embeddings=None,\n",
        "                 freeze_embeddings=False, padding_idx=0):\n",
        "        super(TextCNN, self).__init__()\n",
        "\n",
        "        # Initialize embeddings\n",
        "        if pretrained_embeddings is None:\n",
        "            self.embeddings = nn.Embedding(\n",
        "                embedding_dim=embedding_dim, num_embeddings=vocab_size,\n",
        "                padding_idx=padding_idx)\n",
        "        else:\n",
        "            pretrained_embeddings = torch.from_numpy(\n",
        "                pretrained_embeddings).float()\n",
        "            self.embeddings = nn.Embedding(\n",
        "                embedding_dim=embedding_dim, num_embeddings=vocab_size,\n",
        "                padding_idx=padding_idx, _weight=pretrained_embeddings)\n",
        "\n",
        "        # Freeze embeddings or not\n",
        "        if freeze_embeddings:\n",
        "            self.embeddings.weight.requires_grad = False\n",
        "\n",
        "        # Conv weights\n",
        "        self.filter_sizes = filter_sizes\n",
        "        self.conv = nn.ModuleList(\n",
        "            [nn.Conv1d(in_channels=embedding_dim,\n",
        "                       out_channels=num_filters,\n",
        "                       kernel_size=f) for f in filter_sizes])\n",
        "\n",
        "        # FC weights\n",
        "        self.dropout = nn.Dropout(dropout_p)\n",
        "        self.fc1 = nn.Linear(num_filters*len(filter_sizes), hidden_dim)\n",
        "        self.fc2 = nn.Linear(hidden_dim, num_classes)\n",
        "\n",
        "    def forward(self, x_in, channel_first=False):\n",
        "\n",
        "        # Embed\n",
        "        x_in = self.embeddings(x_in)\n",
        "        if not channel_first:\n",
        "            x_in = x_in.transpose(1, 2)  # (N, channels, sequence length)\n",
        "\n",
        "        z = []\n",
        "        conv_outputs = []  # for interpretability\n",
        "        max_seq_len = x_in.shape[2]\n",
        "        for i, f in enumerate(self.filter_sizes):\n",
        "\n",
        "            # `SAME` padding\n",
        "            padding_left = int(\n",
        "                (self.conv[i].stride[0]*(max_seq_len-1) - max_seq_len + self.filter_sizes[i])/2)\n",
        "            padding_right = int(math.ceil(\n",
        "                (self.conv[i].stride[0]*(max_seq_len-1) - max_seq_len + self.filter_sizes[i])/2))\n",
        "\n",
        "            # Conv\n",
        "            _z = self.conv[i](F.pad(x_in, (padding_left, padding_right)))\n",
        "            conv_outputs.append(_z)\n",
        "\n",
        "            # Pool\n",
        "            _z = F.max_pool1d(_z, _z.size(2)).squeeze(2)\n",
        "            z.append(_z)\n",
        "\n",
        "        # Concat outputs\n",
        "        z = torch.cat(z, 1)\n",
        "\n",
        "        # FC\n",
        "        z = self.fc1(z)\n",
        "        z = self.dropout(z)\n",
        "        logits = self.fc2(z)\n",
        "\n",
        "        return conv_outputs, logits"
      ],
      "execution_count": 31,
      "outputs": []
    },
    {
      "cell_type": "code",
      "metadata": {
        "id": "HTbdP6rQrFQ_",
        "colab_type": "code",
        "colab": {
          "base_uri": "https://localhost:8080/",
          "height": 221
        },
        "outputId": "eaf63679-e1f8-47b3-d3e3-64f32daa96a0"
      },
      "source": [
        "# Initialize model\n",
        "model = TextCNN(\n",
        "    embedding_dim=embedding_dim, vocab_size=vocab_size,\n",
        "    num_filters=num_filters, filter_sizes=filter_sizes,\n",
        "    hidden_dim=hidden_dim, dropout_p=dropout_p,\n",
        "    num_classes=len(y_tokenizer.classes),\n",
        "    freeze_embeddings=freeze_embeddings)\n",
        "model = model.to(device)\n",
        "print (\"Model:\\n\"\n",
        "    f\"  {model.named_parameters}\")"
      ],
      "execution_count": 32,
      "outputs": [
        {
          "output_type": "stream",
          "text": [
            "Model:\n",
            "  <bound method Module.named_parameters of TextCNN(\n",
            "  (embeddings): Embedding(35604, 100, padding_idx=0)\n",
            "  (conv): ModuleList(\n",
            "    (0): Conv1d(100, 50, kernel_size=(2,), stride=(1,))\n",
            "    (1): Conv1d(100, 50, kernel_size=(3,), stride=(1,))\n",
            "    (2): Conv1d(100, 50, kernel_size=(4,), stride=(1,))\n",
            "  )\n",
            "  (dropout): Dropout(p=0.1, inplace=False)\n",
            "  (fc1): Linear(in_features=150, out_features=128, bias=True)\n",
            "  (fc2): Linear(in_features=128, out_features=4, bias=True)\n",
            ")>\n"
          ],
          "name": "stdout"
        }
      ]
    },
    {
      "cell_type": "markdown",
      "metadata": {
        "id": "HlL_S7S0rnSg",
        "colab_type": "text"
      },
      "source": [
        "## Compile"
      ]
    },
    {
      "cell_type": "code",
      "metadata": {
        "id": "NHmA_4p-r0qx",
        "colab_type": "code",
        "colab": {}
      },
      "source": [
        "learning_rate = 1e-4"
      ],
      "execution_count": 33,
      "outputs": []
    },
    {
      "cell_type": "code",
      "metadata": {
        "id": "vOON37H_roEi",
        "colab_type": "code",
        "colab": {}
      },
      "source": [
        "# Define optimizer & scheduler\n",
        "optimizer = torch.optim.Adam(model.parameters(), lr=learning_rate)\n",
        "scheduler = torch.optim.lr_scheduler.ReduceLROnPlateau(\n",
        "    optimizer, mode='min', factor=0.1, patience=3)"
      ],
      "execution_count": 34,
      "outputs": []
    },
    {
      "cell_type": "markdown",
      "metadata": {
        "id": "KxIQfHZcsEnF",
        "colab_type": "text"
      },
      "source": [
        "## Training"
      ]
    },
    {
      "cell_type": "code",
      "metadata": {
        "id": "5MPfpTBEsHoi",
        "colab_type": "code",
        "colab": {}
      },
      "source": [
        "num_epochs = 20\n",
        "patience = 3"
      ],
      "execution_count": 35,
      "outputs": []
    },
    {
      "cell_type": "code",
      "metadata": {
        "id": "LefpIUIeHOAT",
        "colab_type": "code",
        "colab": {}
      },
      "source": [
        "def train_step(model, optimizer, dataloader, device):\n",
        "    \"\"\"Train step.\"\"\"\n",
        "    # Set model to train mode\n",
        "    model.train()\n",
        "    train_loss, correct = 0., 0\n",
        "\n",
        "    # Iterate over train batches\n",
        "    num_batches = len(dataloader)\n",
        "    for i, (X, y) in enumerate(dataloader):\n",
        "\n",
        "        # Step\n",
        "        X, y = X.to(device), y.to(device)  # Set device\n",
        "        optimizer.zero_grad()  # Reset gradients\n",
        "        _, logits = model(X)  # Forward pass\n",
        "        loss = F.cross_entropy(logits, y)  # Define loss\n",
        "        loss.backward()  # Backward pass\n",
        "        optimizer.step()  # Update weights\n",
        "\n",
        "        # Metrics\n",
        "        y_pred = logits.max(dim=1)[1]\n",
        "        correct += torch.eq(y_pred, y).sum().item()\n",
        "        train_loss += (loss.detach().item() - train_loss) / (i + 1)\n",
        "\n",
        "    train_acc = 100. * correct / len(dataloader.dataset)\n",
        "    return train_loss, train_acc"
      ],
      "execution_count": 36,
      "outputs": []
    },
    {
      "cell_type": "code",
      "metadata": {
        "id": "jpdjBjP0HN72",
        "colab_type": "code",
        "colab": {}
      },
      "source": [
        "def test_step(model, dataloader, device):\n",
        "    \"\"\"Validation or test step.\"\"\"\n",
        "    # Set model to eval mode\n",
        "    model.eval()\n",
        "    loss, correct = 0., 0\n",
        "    y_preds, y_targets = [], []\n",
        "\n",
        "    # Iterate over val batches\n",
        "    num_batches = len(dataloader)\n",
        "    with torch.no_grad():\n",
        "        for i, (X, y) in enumerate(dataloader):\n",
        "\n",
        "            # Step\n",
        "            X, y = X.to(device), y.to(device)  # Set device\n",
        "            _, logits = model(X)  # Forward pass\n",
        "\n",
        "            # Metrics\n",
        "            loss += F.cross_entropy(logits, y, reduction='sum').item()\n",
        "            y_pred = logits.max(dim=1)[1]\n",
        "            correct += torch.eq(y_pred, y).sum().item()\n",
        "\n",
        "            # Store outputs\n",
        "            y_preds.extend(y_pred.cpu().numpy())\n",
        "            y_targets.extend(y.cpu().numpy())\n",
        "\n",
        "    loss /= len(dataloader.dataset)\n",
        "    accuracy = 100. * correct / len(dataloader.dataset)\n",
        "    return loss, accuracy, y_preds, y_targets"
      ],
      "execution_count": 37,
      "outputs": []
    },
    {
      "cell_type": "code",
      "metadata": {
        "id": "EPEpnlRFHN27",
        "colab_type": "code",
        "colab": {}
      },
      "source": [
        "def train(model, optimizer, scheduler, num_epochs, patience,\n",
        "          train_dataloader, val_dataloader, test_dataloader, device):\n",
        "    best_val_loss = np.inf\n",
        "    print (\"Training:\")\n",
        "    for epoch in range(num_epochs):\n",
        "        # Steps\n",
        "        train_loss, train_acc = train_step(model, optimizer, train_dataloader, device)\n",
        "        val_loss, val_acc, _, _ = test_step(model, val_dataloader, device)\n",
        "\n",
        "        # Metrics\n",
        "        print (\n",
        "            f\"Epoch: {epoch+1} | \"\n",
        "            f\"train_loss: {train_loss:.2f}, train_acc: {train_acc:.1f}, \"\n",
        "            f\"val_loss: {val_loss:.2f}, val_acc: {val_acc:.1f}\")\n",
        "\n",
        "        # Adjust learning rate\n",
        "        scheduler.step(val_loss)\n",
        "\n",
        "        # Early stopping\n",
        "        if val_loss < best_val_loss:\n",
        "            best_val_loss = val_loss\n",
        "            _patience = patience  # reset _patience\n",
        "        else:\n",
        "            _patience -= 1\n",
        "        if not _patience:  # 0\n",
        "            print (\"Stopping early!\")\n",
        "            break\n",
        "\n",
        "    return best_val_loss"
      ],
      "execution_count": 38,
      "outputs": []
    },
    {
      "cell_type": "code",
      "metadata": {
        "id": "M4bgYj2sr__Z",
        "colab_type": "code",
        "colab": {
          "base_uri": "https://localhost:8080/",
          "height": 204
        },
        "outputId": "69cc5dd0-44ac-4448-a9b7-7d9875ab6ac9"
      },
      "source": [
        "# Train\n",
        "best_val_loss = train(\n",
        "    model=model, optimizer=optimizer, scheduler=scheduler,\n",
        "    num_epochs=num_epochs, patience=patience,\n",
        "    train_dataloader=train_dataloader,\n",
        "    val_dataloader=val_dataloader,\n",
        "    test_dataloader=test_dataloader,\n",
        "    device=device)"
      ],
      "execution_count": 39,
      "outputs": [
        {
          "output_type": "stream",
          "text": [
            "Training:\n",
            "Epoch: 1 | train_loss: 1.22, train_acc: 46.0, val_loss: 1.04, val_acc: 58.1\n",
            "Epoch: 2 | train_loss: 0.91, train_acc: 64.3, val_loss: 0.86, val_acc: 66.6\n",
            "Epoch: 3 | train_loss: 0.74, train_acc: 72.2, val_loss: 0.78, val_acc: 70.1\n",
            "Epoch: 4 | train_loss: 0.63, train_acc: 76.7, val_loss: 0.75, val_acc: 71.8\n",
            "Epoch: 5 | train_loss: 0.56, train_acc: 79.7, val_loss: 0.74, val_acc: 72.9\n",
            "Epoch: 6 | train_loss: 0.50, train_acc: 82.1, val_loss: 0.74, val_acc: 73.5\n",
            "Epoch: 7 | train_loss: 0.45, train_acc: 84.2, val_loss: 0.74, val_acc: 74.1\n",
            "Epoch: 8 | train_loss: 0.41, train_acc: 85.9, val_loss: 0.76, val_acc: 74.3\n",
            "Epoch: 9 | train_loss: 0.37, train_acc: 87.4, val_loss: 0.77, val_acc: 74.4\n",
            "Stopping early!\n"
          ],
          "name": "stdout"
        }
      ]
    },
    {
      "cell_type": "markdown",
      "metadata": {
        "id": "xlopD1dcsMNG",
        "colab_type": "text"
      },
      "source": [
        "## Evaluation\n"
      ]
    },
    {
      "cell_type": "code",
      "metadata": {
        "id": "DmtNM8XPJsgJ",
        "colab_type": "code",
        "colab": {}
      },
      "source": [
        "import itertools\n",
        "import json\n",
        "import matplotlib.pyplot as plt\n",
        "from sklearn.metrics import confusion_matrix\n",
        "from sklearn.metrics import precision_recall_fscore_support"
      ],
      "execution_count": 40,
      "outputs": []
    },
    {
      "cell_type": "code",
      "metadata": {
        "id": "QawTL8x6sYCm",
        "colab_type": "code",
        "colab": {
          "base_uri": "https://localhost:8080/",
          "height": 51
        },
        "outputId": "f7fee6ae-168c-4a17-fec4-7693c97acac7"
      },
      "source": [
        "# Evaluation\n",
        "test_loss, test_acc, y_pred, y_target = test_step(\n",
        "    model=model, dataloader=test_dataloader, device=device)\n",
        "print (\"Test performance:\\n\"\n",
        "    f\"  test_loss: {test_loss:.2f}, test_acc: {test_acc:.1f}\")"
      ],
      "execution_count": 41,
      "outputs": [
        {
          "output_type": "stream",
          "text": [
            "Test performance:\n",
            "  test_loss: 0.78, test_acc: 74.3\n"
          ],
          "name": "stdout"
        }
      ]
    },
    {
      "cell_type": "code",
      "metadata": {
        "id": "R5JC_3h9tXHn",
        "colab_type": "code",
        "colab": {
          "base_uri": "https://localhost:8080/",
          "height": 595
        },
        "outputId": "1a8bce73-5135-4582-a303-cf2815615bbc"
      },
      "source": [
        "# Performance\n",
        "performance = {'overall': {}, 'class': {}}\n",
        "metrics = precision_recall_fscore_support(y_test, y_pred)\n",
        "\n",
        "# Overall performance\n",
        "performance['overall']['precision'] = np.mean(metrics[0])\n",
        "performance['overall']['recall'] = np.mean(metrics[1])\n",
        "performance['overall']['f1'] = np.mean(metrics[2])\n",
        "performance['overall']['num_samples'] = np.float64(np.sum(metrics[3]))\n",
        "\n",
        "# Per-class performance\n",
        "for i in range(len(classes)):\n",
        "    performance['class'][classes[i]] = {\n",
        "        \"precision\": metrics[0][i],\n",
        "        \"recall\": metrics[1][i],\n",
        "        \"f1\": metrics[2][i],\n",
        "        \"num_samples\": np.float64(metrics[3][i])\n",
        "    }\n",
        "\n",
        "print (json.dumps(performance, indent=2))"
      ],
      "execution_count": 42,
      "outputs": [
        {
          "output_type": "stream",
          "text": [
            "{\n",
            "  \"overall\": {\n",
            "    \"precision\": 0.7431059739757412,\n",
            "    \"recall\": 0.7427222222222223,\n",
            "    \"f1\": 0.7421762653808817,\n",
            "    \"num_samples\": 18000.0\n",
            "  },\n",
            "  \"class\": {\n",
            "    \"Business\": {\n",
            "      \"precision\": 0.7377521613832853,\n",
            "      \"recall\": 0.6826666666666666,\n",
            "      \"f1\": 0.7091412742382271,\n",
            "      \"num_samples\": 4500.0\n",
            "    },\n",
            "    \"Sci/Tech\": {\n",
            "      \"precision\": 0.712818317997004,\n",
            "      \"recall\": 0.7402222222222222,\n",
            "      \"f1\": 0.7262618554453286,\n",
            "      \"num_samples\": 4500.0\n",
            "    },\n",
            "    \"Sports\": {\n",
            "      \"precision\": 0.7498459642637092,\n",
            "      \"recall\": 0.8113333333333334,\n",
            "      \"f1\": 0.7793788024335574,\n",
            "      \"num_samples\": 4500.0\n",
            "    },\n",
            "    \"World\": {\n",
            "      \"precision\": 0.772007452258966,\n",
            "      \"recall\": 0.7366666666666667,\n",
            "      \"f1\": 0.7539231294064135,\n",
            "      \"num_samples\": 4500.0\n",
            "    }\n",
            "  }\n",
            "}\n"
          ],
          "name": "stdout"
        }
      ]
    },
    {
      "cell_type": "code",
      "metadata": {
        "id": "fA9jDQPTsRW9",
        "colab_type": "code",
        "colab": {
          "base_uri": "https://localhost:8080/",
          "height": 306
        },
        "outputId": "c489832f-3293-40f2-a015-a9240d9448fa"
      },
      "source": [
        "# Confusion matrix\n",
        "cm = confusion_matrix(y_test, y_pred)\n",
        "cm_norm = cm.astype('float') / cm.sum(axis=1)[:, np.newaxis]\n",
        "\n",
        "#  Figure\n",
        "fig = plt.figure()\n",
        "ax = fig.add_subplot(111)\n",
        "cax = ax.matshow(cm, cmap=plt.cm.Blues)\n",
        "fig.colorbar(cax)\n",
        "\n",
        "# Axis\n",
        "plt.title(\"Confusion matrix\")\n",
        "plt.ylabel(\"True label\")\n",
        "plt.xlabel(\"Predicted label\")\n",
        "ax.set_xticklabels([''] + classes)\n",
        "ax.set_yticklabels([''] + classes)\n",
        "ax.xaxis.set_label_position('bottom')\n",
        "ax.xaxis.tick_bottom()\n",
        "\n",
        "# Values\n",
        "thresh = cm.max() / 2.\n",
        "for i, j in itertools.product(range(cm.shape[0]), range(cm.shape[1])):\n",
        "    plt.text(j, i, f\"{cm[i, j]:d} ({cm_norm[i, j]*100:.1f}%)\",\n",
        "                horizontalalignment=\"center\",\n",
        "                color=\"white\" if cm[i, j] > thresh else \"black\")"
      ],
      "execution_count": 43,
      "outputs": [
        {
          "output_type": "display_data",
          "data": {
            "image/png": "[encoded data removed]",
            "text/plain": [
              "<Figure size 432x288 with 2 Axes>"
            ]
          },
          "metadata": {
            "tags": [],
            "needs_background": "light"
          }
        }
      ]
    },
    {
      "cell_type": "markdown",
      "metadata": {
        "id": "YxdzscVPtAMx",
        "colab_type": "text"
      },
      "source": [
        "## Prediction"
      ]
    },
    {
      "cell_type": "code",
      "metadata": {
        "id": "x8KYyi0Jwx9m",
        "colab_type": "code",
        "colab": {}
      },
      "source": [
        "from collections import Counter\n",
        "from collections import defaultdict"
      ],
      "execution_count": 44,
      "outputs": []
    },
    {
      "cell_type": "code",
      "metadata": {
        "id": "voQxTlgfs_ya",
        "colab_type": "code",
        "colab": {
          "base_uri": "https://localhost:8080/",
          "height": 34
        },
        "outputId": "5b6cc3c9-cde9-4ab4-a4aa-a42599f7d6e5"
      },
      "source": [
        "text = input(\"Enter text to classify: \")"
      ],
      "execution_count": 45,
      "outputs": [
        {
          "output_type": "stream",
          "text": [
            "Enter text to classify: The Canadian government officials proposed the new federal law.\n"
          ],
          "name": "stdout"
        }
      ]
    },
    {
      "cell_type": "code",
      "metadata": {
        "id": "PeH7Fou3K8e2",
        "colab_type": "code",
        "colab": {
          "base_uri": "https://localhost:8080/",
          "height": 34
        },
        "outputId": "8542fb43-816b-431b-8a04-eeec3ce2d69a"
      },
      "source": [
        "# Preprocess\n",
        "preprocessed_texts = preprocess_texts([text], lower=lower)\n",
        "print (preprocessed_texts[0])"
      ],
      "execution_count": 53,
      "outputs": [
        {
          "output_type": "stream",
          "text": [
            "the canadian government officials proposed the new federal law\n"
          ],
          "name": "stdout"
        }
      ]
    },
    {
      "cell_type": "code",
      "metadata": {
        "id": "fF2nUaUTtzAp",
        "colab_type": "code",
        "colab": {}
      },
      "source": [
        "# Create dataset\n",
        "X = np.array(X_tokenizer.texts_to_sequences(preprocessed_texts))\n",
        "y_filler = np.array([0]*len(X))\n",
        "dataset = TextDataset(\n",
        "    X=X, y=y_filler, max_filter_size=max(filter_sizes))\n",
        "dataloader = dataset.create_dataloader(\n",
        "    batch_size=batch_size)"
      ],
      "execution_count": 54,
      "outputs": []
    },
    {
      "cell_type": "code",
      "metadata": {
        "id": "5bX3XlKtLOx6",
        "colab_type": "code",
        "colab": {}
      },
      "source": [
        "def predict_step(model, dataloader, filter_sizes, device):\n",
        "    \"\"\"Predict step.\"\"\"\n",
        "    model.eval()\n",
        "    conv_outputs = defaultdict(list)\n",
        "    y_probs = []\n",
        "    with torch.no_grad():\n",
        "        for i, (X, y) in enumerate(dataloader):\n",
        "\n",
        "            # Set device\n",
        "            X, y = X.to(device), y.to(device)\n",
        "\n",
        "            # Forward pass\n",
        "            conv_outputs_, logits = model(X)\n",
        "            y_prob = F.softmax(logits, dim=1)\n",
        "\n",
        "            # Save probabilities\n",
        "            y_probs.extend(y_prob.cpu().numpy())\n",
        "            for i, filter_size in enumerate(filter_sizes):\n",
        "                conv_outputs[filter_size].extend(\n",
        "                    conv_outputs_[i].cpu().numpy())\n",
        "\n",
        "    return y_probs, conv_outputs"
      ],
      "execution_count": 55,
      "outputs": []
    },
    {
      "cell_type": "code",
      "metadata": {
        "id": "TUsq9crxt-2O",
        "colab_type": "code",
        "colab": {}
      },
      "source": [
        "# Predict\n",
        "y_prob, conv_outputs = predict_step(\n",
        "    model=model.cpu(), dataloader=dataloader,\n",
        "    filter_sizes=filter_sizes, device='cpu')"
      ],
      "execution_count": 56,
      "outputs": []
    },
    {
      "cell_type": "code",
      "metadata": {
        "id": "AiRtSKLguL7W",
        "colab_type": "code",
        "colab": {}
      },
      "source": [
        "# Probability distribution\n",
        "prob_dist = {}\n",
        "for i, class_ in enumerate(classes):\n",
        "    prob_dist[class_] = np.float64(y_prob[0][i])\n",
        "prob_dist = {k: v for k, v in sorted(\n",
        "    prob_dist.items(), key=lambda item: item[1], reverse=True)}"
      ],
      "execution_count": 57,
      "outputs": []
    },
    {
      "cell_type": "code",
      "metadata": {
        "id": "SIrPWE5Fu98N",
        "colab_type": "code",
        "colab": {}
      },
      "source": [
        "# Process conv outputs for each unique filter size\n",
        "n_grams = {}\n",
        "conv_outputs = {k: v[0] for k, v in conv_outputs.items()}\n",
        "tokens = preprocessed_texts[0].split(' ')\n",
        "for i, filter_size in enumerate(filter_sizes):\n",
        "\n",
        "    # Identify most important n-gram for each filter's output\n",
        "    popular_indices = Counter(\n",
        "        np.argmax(conv_outputs[filter_size], axis=1))\n",
        "\n",
        "    # Get corresponding text\n",
        "    start = popular_indices.most_common(2)[-1][0]\n",
        "    end = min(len(tokens), start+filter_size)\n",
        "    n_gram = \" \".join([token for token in tokens[start:end]])\n",
        "    n_grams[filter_size] = {\n",
        "        'n_gram': n_gram,\n",
        "        'start': np.float64(start),\n",
        "        'end': np.float64(end)\n",
        "        }"
      ],
      "execution_count": 58,
      "outputs": []
    },
    {
      "cell_type": "code",
      "metadata": {
        "id": "p34wqnehu9-7",
        "colab_type": "code",
        "colab": {
          "base_uri": "https://localhost:8080/",
          "height": 476
        },
        "outputId": "5a1c3f30-ebf0-41ea-f2ca-351ba0078815"
      },
      "source": [
        "print ('raw_input:', text)\n",
        "print ('preprocessed_input:', preprocessed_texts[0])\n",
        "print ('probabilities:\\n', json.dumps(prob_dist, indent=2))\n",
        "print ('top_n_grams:\\n', json.dumps(n_grams, indent=2))"
      ],
      "execution_count": 59,
      "outputs": [
        {
          "output_type": "stream",
          "text": [
            "raw_input: The Canadian government officials proposed the new federal law.\n",
            "preprocessed_input: the canadian government officials proposed the new federal law\n",
            "probabilities:\n",
            " {\n",
            "  \"Sci/Tech\": 0.6987228989601135,\n",
            "  \"Business\": 0.17412935197353363,\n",
            "  \"World\": 0.11796557903289795,\n",
            "  \"Sports\": 0.009182196110486984\n",
            "}\n",
            "top_n_grams:\n",
            " {\n",
            "  \"2\": {\n",
            "    \"n_gram\": \"officials proposed\",\n",
            "    \"start\": 3.0,\n",
            "    \"end\": 5.0\n",
            "  },\n",
            "  \"3\": {\n",
            "    \"n_gram\": \"proposed the new\",\n",
            "    \"start\": 4.0,\n",
            "    \"end\": 7.0\n",
            "  },\n",
            "  \"4\": {\n",
            "    \"n_gram\": \"federal law\",\n",
            "    \"start\": 7.0,\n",
            "    \"end\": 9.0\n",
            "  }\n",
            "}\n"
          ],
          "name": "stdout"
        }
      ]
    },
    {
      "cell_type": "markdown",
      "metadata": {
        "id": "U23uS7O6yKb7",
        "colab_type": "text"
      },
      "source": [
        "---\n",
        "Learn, explore and build at <a href=\"https://madewithml.com/\">Made With ML</a>.\n",
        "\n",
        "<div align=\"left\">\n",
        "<a class=\"ai-header-badge\" target=\"_blank\" href=\"https://github.com/madewithml/basics\"><img src=\"https://img.shields.io/github/stars/madewithml/basics.svg?style=social&label=Star\"></a>&nbsp;\n",
        "<a class=\"ai-header-badge\" target=\"_blank\" href=\"https://www.linkedin.com/company/madewithml\"><img src=\"https://img.shields.io/badge/style--5eba00.svg?label=LinkedIn&logo=linkedin&style=social\"></a>&nbsp;\n",
        "<a class=\"ai-header-badge\" target=\"_blank\" href=\"https://www.youtube.com/channel/UCaVCnFQXS7PYMoYZu3KdC0Q?sub_confirmation=1\"><img src=\"https://img.shields.io/badge/style--5eba00.svg?label=YouTube&logo=youtube&style=social\"></a>&nbsp;<a class=\"ai-header-badge\" target=\"_blank\" href=\"https://twitter.com/madewithml\"><img src=\"https://img.shields.io/twitter/follow/madewithml.svg?label=Follow&style=social\"></a>\n",
        "</div>\n",
        "             "
      ]
    }
  ]
}